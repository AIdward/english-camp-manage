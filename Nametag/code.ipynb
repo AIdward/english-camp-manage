{
 "cells": [
  {
   "cell_type": "markdown",
   "id": "f937df2c",
   "metadata": {},
   "source": [
    "# 명찰 시트 업무 자동화 코드"
   ]
  },
  {
   "cell_type": "markdown",
   "id": "46584f81",
   "metadata": {},
   "source": [
    "### 1. 패키지 설치"
   ]
  },
  {
   "cell_type": "code",
   "execution_count": null,
   "id": "502331d4",
   "metadata": {},
   "outputs": [],
   "source": [
    "!pip install python-pptx"
   ]
  },
  {
   "cell_type": "code",
   "execution_count": null,
   "id": "225eb422",
   "metadata": {},
   "outputs": [],
   "source": [
    "!pip install pandas"
   ]
  },
  {
   "cell_type": "code",
   "execution_count": null,
   "id": "ee030f5b",
   "metadata": {},
   "outputs": [],
   "source": [
    "!pip install numpy"
   ]
  },
  {
   "cell_type": "markdown",
   "id": "f9184ab2",
   "metadata": {},
   "source": [
    "### 2. 모듈 임포트"
   ]
  },
  {
   "cell_type": "code",
   "execution_count": 9,
   "id": "595efd38",
   "metadata": {},
   "outputs": [],
   "source": [
    "import pandas as pd\n",
    "import numpy as np\n",
    "from pptx import Presentation\n",
    "from pptx.util import Inches\n",
    "from pptx.dml.color import RGBColor\n",
    "color_dict={'Red': '0xFF, 0x00, 0x00',\n",
    "            'Green':'0x00, 0xFF, 0x00',\n",
    "            'Blue':'0x00, 0x00, 0xFF',\n",
    "            'Pink':'0xFF, 0x33, 0x99',\n",
    "            'Orange':'0xFF, 0x7F, 0x00',\n",
    "            'White': '0xFF, 0xFF, 0xFF'}"
   ]
  },
  {
   "cell_type": "markdown",
   "id": "3305e0cb",
   "metadata": {},
   "source": [
    "### 3. PPT 템플릿 로드"
   ]
  },
  {
   "cell_type": "code",
   "execution_count": 10,
   "id": "46adab8c",
   "metadata": {},
   "outputs": [],
   "source": [
    "path_to_presentation = 'template.pptx'\n",
    "prs = Presentation(path_to_presentation)"
   ]
  },
  {
   "cell_type": "code",
   "execution_count": 11,
   "id": "cd8f127b",
   "metadata": {},
   "outputs": [],
   "source": [
    "text_dict = dict()\n",
    "for i, slide in enumerate(prs.slides):\n",
    "    for k, shape in enumerate(slide.shapes):\n",
    "        if not shape.has_text_frame:\n",
    "            continue\n",
    "        for p, paragraph in enumerate(shape.text_frame.paragraphs):\n",
    "            for q, run in enumerate(paragraph.runs):\n",
    "                text_dict[f\"SLIDE_{i}_shape_{k}_paragraph_{p}_run_{q}\"] = run.text"
   ]
  },
  {
   "cell_type": "markdown",
   "id": "0baa7ae1",
   "metadata": {},
   "source": [
    "### 4. 참가자 명단 엑셀 데이터 로드"
   ]
  },
  {
   "cell_type": "code",
   "execution_count": 12,
   "id": "fa453627",
   "metadata": {},
   "outputs": [
    {
     "data": {
      "text/html": [
       "<div>\n",
       "<style scoped>\n",
       "    .dataframe tbody tr th:only-of-type {\n",
       "        vertical-align: middle;\n",
       "    }\n",
       "\n",
       "    .dataframe tbody tr th {\n",
       "        vertical-align: top;\n",
       "    }\n",
       "\n",
       "    .dataframe thead th {\n",
       "        text-align: right;\n",
       "    }\n",
       "</style>\n",
       "<table border=\"1\" class=\"dataframe\">\n",
       "  <thead>\n",
       "    <tr style=\"text-align: right;\">\n",
       "      <th></th>\n",
       "      <th>position</th>\n",
       "      <th>name</th>\n",
       "      <th>subname</th>\n",
       "      <th>color</th>\n",
       "    </tr>\n",
       "  </thead>\n",
       "  <tbody>\n",
       "    <tr>\n",
       "      <th>0</th>\n",
       "      <td>Grade 3</td>\n",
       "      <td>장  민  준</td>\n",
       "      <td>Kevin</td>\n",
       "      <td>Green</td>\n",
       "    </tr>\n",
       "    <tr>\n",
       "      <th>1</th>\n",
       "      <td>Grade 3</td>\n",
       "      <td>구  범  준</td>\n",
       "      <td>Eric</td>\n",
       "      <td>Green</td>\n",
       "    </tr>\n",
       "    <tr>\n",
       "      <th>2</th>\n",
       "      <td>Grade 4</td>\n",
       "      <td>서  지  우</td>\n",
       "      <td>Thor</td>\n",
       "      <td>Green</td>\n",
       "    </tr>\n",
       "    <tr>\n",
       "      <th>3</th>\n",
       "      <td>Grade 4</td>\n",
       "      <td>심  율</td>\n",
       "      <td>Mason</td>\n",
       "      <td>Green</td>\n",
       "    </tr>\n",
       "    <tr>\n",
       "      <th>4</th>\n",
       "      <td>Grade 2</td>\n",
       "      <td>강  인  서</td>\n",
       "      <td>Elsie</td>\n",
       "      <td>Pink</td>\n",
       "    </tr>\n",
       "    <tr>\n",
       "      <th>5</th>\n",
       "      <td>Grade 3</td>\n",
       "      <td>공  지  윤</td>\n",
       "      <td>Sunny</td>\n",
       "      <td>Pink</td>\n",
       "    </tr>\n",
       "    <tr>\n",
       "      <th>6</th>\n",
       "      <td>Grade 4</td>\n",
       "      <td>구  민  주</td>\n",
       "      <td>Irene</td>\n",
       "      <td>Pink</td>\n",
       "    </tr>\n",
       "    <tr>\n",
       "      <th>7</th>\n",
       "      <td>Grade 4</td>\n",
       "      <td>배  현  지</td>\n",
       "      <td>Rachel</td>\n",
       "      <td>Pink</td>\n",
       "    </tr>\n",
       "    <tr>\n",
       "      <th>8</th>\n",
       "      <td>Grade 4</td>\n",
       "      <td>신  지  은</td>\n",
       "      <td>Anny</td>\n",
       "      <td>Pink</td>\n",
       "    </tr>\n",
       "    <tr>\n",
       "      <th>9</th>\n",
       "      <td>Teacher</td>\n",
       "      <td>고  대  현</td>\n",
       "      <td>Daehyeon</td>\n",
       "      <td>Blue</td>\n",
       "    </tr>\n",
       "    <tr>\n",
       "      <th>10</th>\n",
       "      <td>Teacher</td>\n",
       "      <td>임  재  현</td>\n",
       "      <td>Shally</td>\n",
       "      <td>Blue</td>\n",
       "    </tr>\n",
       "    <tr>\n",
       "      <th>11</th>\n",
       "      <td>Teacher</td>\n",
       "      <td>J  o  r  g  e</td>\n",
       "      <td></td>\n",
       "      <td>Blue</td>\n",
       "    </tr>\n",
       "    <tr>\n",
       "      <th>12</th>\n",
       "      <td>Director</td>\n",
       "      <td>한  종  석</td>\n",
       "      <td></td>\n",
       "      <td>Red</td>\n",
       "    </tr>\n",
       "    <tr>\n",
       "      <th>13</th>\n",
       "      <td>Director</td>\n",
       "      <td>김  소  희</td>\n",
       "      <td></td>\n",
       "      <td>Red</td>\n",
       "    </tr>\n",
       "    <tr>\n",
       "      <th>14</th>\n",
       "      <td>Director</td>\n",
       "      <td>신  선  웅</td>\n",
       "      <td></td>\n",
       "      <td>Red</td>\n",
       "    </tr>\n",
       "    <tr>\n",
       "      <th>15</th>\n",
       "      <td>Director</td>\n",
       "      <td>임  대  환</td>\n",
       "      <td></td>\n",
       "      <td>Red</td>\n",
       "    </tr>\n",
       "    <tr>\n",
       "      <th>16</th>\n",
       "      <td></td>\n",
       "      <td></td>\n",
       "      <td></td>\n",
       "      <td>White</td>\n",
       "    </tr>\n",
       "    <tr>\n",
       "      <th>17</th>\n",
       "      <td></td>\n",
       "      <td></td>\n",
       "      <td></td>\n",
       "      <td>White</td>\n",
       "    </tr>\n",
       "  </tbody>\n",
       "</table>\n",
       "</div>"
      ],
      "text/plain": [
       "    position               name   subname  color\n",
       "0    Grade 3          장  민  준       Kevin  Green\n",
       "1    Grade 3          구  범  준        Eric  Green\n",
       "2    Grade 4          서  지  우        Thor  Green\n",
       "3    Grade 4             심  율       Mason  Green\n",
       "4    Grade 2          강  인  서       Elsie   Pink\n",
       "5    Grade 3          공  지  윤       Sunny   Pink\n",
       "6    Grade 4          구  민  주       Irene   Pink\n",
       "7    Grade 4          배  현  지      Rachel   Pink\n",
       "8    Grade 4          신  지  은        Anny   Pink\n",
       "9    Teacher          고  대  현    Daehyeon   Blue\n",
       "10   Teacher          임  재  현      Shally   Blue\n",
       "11   Teacher    J  o  r  g  e               Blue\n",
       "12  Director          한  종  석                Red\n",
       "13  Director          김  소  희                Red\n",
       "14  Director          신  선  웅                Red\n",
       "15  Director          임  대  환                Red\n",
       "16                                         White\n",
       "17                                         White"
      ]
     },
     "execution_count": 12,
     "metadata": {},
     "output_type": "execute_result"
    }
   ],
   "source": [
    "name_list = pd.read_csv(\"name_list.csv\")\n",
    "name_list.name = name_list.name.str.replace(\"\", \"  \")\n",
    "name_list = name_list.fillna(\"\")\n",
    "empty_data = np.array([['BlankText'] * len(name_list.columns) for i in range(6 - len(name_list) % 6)])\n",
    "empty_data[:, -1] = \"White\"\n",
    "empty_df = pd.DataFrame(empty_data, columns=name_list.columns)\n",
    "name_list = pd.concat((name_list, empty_df)).reset_index(drop=True)\n",
    "name_list = name_list.replace(\"BlankText\", \"\")\n",
    "name_list"
   ]
  },
  {
   "cell_type": "markdown",
   "id": "7e815d37",
   "metadata": {},
   "source": [
    "### 5. 명단에 맞게 PPT 변환"
   ]
  },
  {
   "cell_type": "code",
   "execution_count": 13,
   "id": "ca545b3d",
   "metadata": {},
   "outputs": [],
   "source": [
    "position_index = 4\n",
    "name_index = 5\n",
    "subname_index = 6\n",
    "color_index = 7"
   ]
  },
  {
   "cell_type": "code",
   "execution_count": 14,
   "id": "2442ea9a",
   "metadata": {},
   "outputs": [],
   "source": [
    "for i in range((len(name_list) // 6)):\n",
    "    for j in range(6):\n",
    "        prs.slides[i].shapes[position_index+8*j].text_frame.paragraphs[0].runs[0].text = name_list.position[i*6+j]\n",
    "        prs.slides[i].shapes[name_index+8*j].text_frame.paragraphs[0].runs[0].text = name_list.name[i*6+j]\n",
    "        prs.slides[i].shapes[subname_index+8*j].text_frame.paragraphs[0].runs[0].text = name_list.subname[i*6+j]\n",
    "        prs.slides[i].shapes[color_index+8*j].fill.fore_color.rgb = RGBColor(*map(lambda v : int(v, 16),\n",
    "                                                                                  color_dict[name_list.color[i*6+j]].split(',')))"
   ]
  },
  {
   "cell_type": "code",
   "execution_count": 15,
   "id": "ef01439f",
   "metadata": {},
   "outputs": [],
   "source": [
    "prs.save(\"nametag.pptx\")"
   ]
  }
 ],
 "metadata": {
  "kernelspec": {
   "display_name": "Python 3",
   "language": "python",
   "name": "python3"
  },
  "language_info": {
   "codemirror_mode": {
    "name": "ipython",
    "version": 3
   },
   "file_extension": ".py",
   "mimetype": "text/x-python",
   "name": "python",
   "nbconvert_exporter": "python",
   "pygments_lexer": "ipython3",
   "version": "3.8.5"
  }
 },
 "nbformat": 4,
 "nbformat_minor": 5
}
