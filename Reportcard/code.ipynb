{
 "cells": [
  {
   "cell_type": "markdown",
   "id": "dbd07d30",
   "metadata": {},
   "source": [
    "# 원어민 보고서 업무 자동화 코드"
   ]
  },
  {
   "cell_type": "markdown",
   "id": "1f42f54d",
   "metadata": {},
   "source": [
    "### 1. 패키지 설치"
   ]
  },
  {
   "cell_type": "code",
   "execution_count": null,
   "id": "66d07947",
   "metadata": {},
   "outputs": [],
   "source": [
    "!pip install mailmerge"
   ]
  },
  {
   "cell_type": "markdown",
   "id": "7846a4d4",
   "metadata": {},
   "source": [
    "And restart the kernel (커널을 재시작하세요)"
   ]
  },
  {
   "cell_type": "markdown",
   "id": "a5e7b92e",
   "metadata": {},
   "source": [
    "### 2. 모듈 임포트"
   ]
  },
  {
   "cell_type": "code",
   "execution_count": null,
   "id": "85a919d6",
   "metadata": {},
   "outputs": [],
   "source": [
    "import os\n",
    "import shutil\n",
    "import pandas as pd\n",
    "from mailmerge import MailMerge"
   ]
  },
  {
   "cell_type": "markdown",
   "id": "2d180109",
   "metadata": {},
   "source": [
    "### 3. 워드 템플릿 로드"
   ]
  },
  {
   "cell_type": "code",
   "execution_count": null,
   "id": "1c5012ad",
   "metadata": {},
   "outputs": [],
   "source": [
    "template = \"template.docx\"\n",
    "document = MailMerge(template)\n",
    "print(document.get_merge_fields())"
   ]
  },
  {
   "cell_type": "markdown",
   "id": "a69eacaa",
   "metadata": {},
   "source": [
    "### 4. 레벨 테스트 점수 엑셀 데이터 로드"
   ]
  },
  {
   "cell_type": "code",
   "execution_count": null,
   "id": "3d11cfaf",
   "metadata": {},
   "outputs": [],
   "source": [
    "report_list = pd.read_csv(\"report_list.csv\")\n",
    "report_list.columns = [\"kName\", \"eName\", \"className\", \"ps\", \"pw\", \"pt\", \"ms\", \"mw\", \"mt\", \"fs\", \"fw\", \"ft\"]\n",
    "report_list"
   ]
  },
  {
   "cell_type": "markdown",
   "id": "2deea476",
   "metadata": {},
   "source": [
    "### 5. 반 별 폴더 생성"
   ]
  },
  {
   "cell_type": "code",
   "execution_count": null,
   "id": "8f395f1c",
   "metadata": {},
   "outputs": [],
   "source": [
    "os.makedirs(\"Report Cards\")\n",
    "for i, n in enumerate(report_list.className.unique()):\n",
    "    os.makedirs(f\"Report Cards/{n}\")"
   ]
  },
  {
   "cell_type": "markdown",
   "id": "3aacf417",
   "metadata": {},
   "source": [
    "### 6. 데이터에 맞게 워드파일 생성 후 반 별 폴더로 이동"
   ]
  },
  {
   "cell_type": "code",
   "execution_count": null,
   "id": "a1f601c2",
   "metadata": {},
   "outputs": [],
   "source": [
    "for i in range(len(report_list)):\n",
    "    document = MailMerge(template)\n",
    "    document.merge(\n",
    "        kName = report_list.iloc[i][0],\n",
    "        eName = report_list.iloc[i][1],\n",
    "        className = report_list.iloc[i][2],\n",
    "        ps = str(report_list.iloc[i][3]),\n",
    "        pw = str(report_list.iloc[i][4]),\n",
    "        pt = str(report_list.iloc[i][5]),\n",
    "        ms = str(report_list.iloc[i][6]),\n",
    "        mw = str(report_list.iloc[i][7]),\n",
    "        mt = str(report_list.iloc[i][8]),\n",
    "        fs = str(report_list.iloc[i][9]),\n",
    "        fw = str(report_list.iloc[i][10]),\n",
    "        ft = str(report_list.iloc[i][11])\n",
    "    )\n",
    "    file_name = f\"{report_list.iloc[i][1]}({report_list.iloc[i][0]})-({report_list.iloc[i][2]}).docx\"\n",
    "    path_name = f\"Report Cards/{report_list.iloc[i][2]}\"\n",
    "    document.write(file_name)\n",
    "    shutil.move(file_name, path_name)"
   ]
  }
 ],
 "metadata": {
  "kernelspec": {
   "display_name": "Python 3",
   "language": "python",
   "name": "python3"
  },
  "language_info": {
   "codemirror_mode": {
    "name": "ipython",
    "version": 3
   },
   "file_extension": ".py",
   "mimetype": "text/x-python",
   "name": "python",
   "nbconvert_exporter": "python",
   "pygments_lexer": "ipython3",
   "version": "3.8.5"
  }
 },
 "nbformat": 4,
 "nbformat_minor": 5
}
