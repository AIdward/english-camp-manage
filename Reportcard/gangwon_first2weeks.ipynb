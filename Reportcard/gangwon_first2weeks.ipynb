{
 "cells": [
  {
   "cell_type": "markdown",
   "id": "dbd07d30",
   "metadata": {},
   "source": [
    "# 원어민 보고서 업무 자동화 코드"
   ]
  },
  {
   "cell_type": "markdown",
   "id": "1f42f54d",
   "metadata": {},
   "source": [
    "### 1. 패키지 설치"
   ]
  },
  {
   "cell_type": "code",
   "execution_count": null,
   "id": "35a7b2fe",
   "metadata": {},
   "outputs": [],
   "source": [
    "pip install docx-mailmerge==0.5.0"
   ]
  },
  {
   "cell_type": "markdown",
   "id": "a5e7b92e",
   "metadata": {},
   "source": [
    "### 2. 모듈 임포트"
   ]
  },
  {
   "cell_type": "code",
   "execution_count": 5,
   "id": "f366343c",
   "metadata": {},
   "outputs": [],
   "source": [
    "import os\n",
    "import shutil\n",
    "import pandas as pd\n",
    "from mailmerge import MailMerge"
   ]
  },
  {
   "cell_type": "code",
   "execution_count": 2,
   "id": "ff87750a",
   "metadata": {},
   "outputs": [],
   "source": [
    "folderName = \"reportCards_first2weeks\"\n",
    "template = \"template_gangwon_first2weeks.docx\"\n",
    "report_list = \"report_list_gangwon_first2weeks.csv\""
   ]
  },
  {
   "cell_type": "markdown",
   "id": "2d180109",
   "metadata": {},
   "source": [
    "### 3. 워드 템플릿 로드"
   ]
  },
  {
   "cell_type": "code",
   "execution_count": 3,
   "id": "1c5012ad",
   "metadata": {},
   "outputs": [
    {
     "name": "stdout",
     "output_type": "stream",
     "text": [
      "{'writing', 'reading', 'speaking', 'pw', 'pt', 'className', 'fs', 'fw', 'kName', 'eName', 'ps', 'ft'}\n"
     ]
    }
   ],
   "source": [
    "document = MailMerge(template)\n",
    "print(document.get_merge_fields())"
   ]
  },
  {
   "cell_type": "markdown",
   "id": "a69eacaa",
   "metadata": {},
   "source": [
    "### 4. 레벨 테스트 점수 엑셀 데이터 로드"
   ]
  },
  {
   "cell_type": "code",
   "execution_count": 4,
   "id": "3d11cfaf",
   "metadata": {},
   "outputs": [
    {
     "data": {
      "text/html": [
       "<div>\n",
       "<style scoped>\n",
       "    .dataframe tbody tr th:only-of-type {\n",
       "        vertical-align: middle;\n",
       "    }\n",
       "\n",
       "    .dataframe tbody tr th {\n",
       "        vertical-align: top;\n",
       "    }\n",
       "\n",
       "    .dataframe thead th {\n",
       "        text-align: right;\n",
       "    }\n",
       "</style>\n",
       "<table border=\"1\" class=\"dataframe\">\n",
       "  <thead>\n",
       "    <tr style=\"text-align: right;\">\n",
       "      <th></th>\n",
       "      <th>kName</th>\n",
       "      <th>eName</th>\n",
       "      <th>className</th>\n",
       "      <th>speaking</th>\n",
       "      <th>reading</th>\n",
       "      <th>writing</th>\n",
       "      <th>ps</th>\n",
       "      <th>pw</th>\n",
       "      <th>pt</th>\n",
       "      <th>fs</th>\n",
       "      <th>fw</th>\n",
       "      <th>ft</th>\n",
       "    </tr>\n",
       "  </thead>\n",
       "  <tbody>\n",
       "    <tr>\n",
       "      <th>0</th>\n",
       "      <td>이소연</td>\n",
       "      <td>Irene</td>\n",
       "      <td>Pinetree</td>\n",
       "      <td>David</td>\n",
       "      <td>Jorge</td>\n",
       "      <td>Kevin</td>\n",
       "      <td>32</td>\n",
       "      <td>48</td>\n",
       "      <td>80</td>\n",
       "      <td>37</td>\n",
       "      <td>41</td>\n",
       "      <td>78</td>\n",
       "    </tr>\n",
       "    <tr>\n",
       "      <th>1</th>\n",
       "      <td>서혜린</td>\n",
       "      <td>Chole</td>\n",
       "      <td>Pinetree</td>\n",
       "      <td>David</td>\n",
       "      <td>Jorge</td>\n",
       "      <td>Kevin</td>\n",
       "      <td>18</td>\n",
       "      <td>48</td>\n",
       "      <td>66</td>\n",
       "      <td>25</td>\n",
       "      <td>43</td>\n",
       "      <td>68</td>\n",
       "    </tr>\n",
       "  </tbody>\n",
       "</table>\n",
       "</div>"
      ],
      "text/plain": [
       "  kName  eName className speaking reading writing  ps  pw  pt  fs  fw  ft\n",
       "0   이소연  Irene  Pinetree    David   Jorge   Kevin  32  48  80  37  41  78\n",
       "1   서혜린  Chole  Pinetree    David   Jorge   Kevin  18  48  66  25  43  68"
      ]
     },
     "execution_count": 4,
     "metadata": {},
     "output_type": "execute_result"
    }
   ],
   "source": [
    "report_list = pd.read_csv(\"report_list_gangwon_first2weeks.csv\")\n",
    "report_list.columns = [\"kName\", \"eName\", \"className\", \"speaking\", \"reading\", \"writing\", \"ps\", \"pw\", \"pt\", \"fs\", \"fw\", \"ft\"]\n",
    "report_list"
   ]
  },
  {
   "cell_type": "markdown",
   "id": "2deea476",
   "metadata": {},
   "source": [
    "### 5. 반 별 폴더 생성"
   ]
  },
  {
   "cell_type": "code",
   "execution_count": 5,
   "id": "8f395f1c",
   "metadata": {},
   "outputs": [],
   "source": [
    "os.makedirs(folderName)\n",
    "for i, n in enumerate(report_list.className.unique()):\n",
    "    os.makedirs(f\"{folderName}/{n}\")"
   ]
  },
  {
   "cell_type": "markdown",
   "id": "3aacf417",
   "metadata": {},
   "source": [
    "### 6. 데이터에 맞게 워드파일 생성 후 반 별 폴더로 이동"
   ]
  },
  {
   "cell_type": "code",
   "execution_count": 9,
   "id": "8563165b",
   "metadata": {},
   "outputs": [
    {
     "data": {
      "text/plain": [
       "'Irene'"
      ]
     },
     "execution_count": 9,
     "metadata": {},
     "output_type": "execute_result"
    }
   ],
   "source": [
    "report_list.iloc[0][1]"
   ]
  },
  {
   "cell_type": "code",
   "execution_count": 6,
   "id": "b13c7ef2",
   "metadata": {},
   "outputs": [],
   "source": [
    "for i in range(len(report_list)):\n",
    "    document = MailMerge(template)\n",
    "    document.merge(\n",
    "        kName = report_list.iloc[i][0],\n",
    "        eName = report_list.iloc[i][1],\n",
    "        className = report_list.iloc[i][2],\n",
    "        speaking = str(report_list.iloc[i][3]),\n",
    "        reading = str(report_list.iloc[i][4]),\n",
    "        writing = str(report_list.iloc[i][5]),\n",
    "        ps = str(report_list.iloc[i][6]),\n",
    "        pw = str(report_list.iloc[i][7]),\n",
    "        pt = str(report_list.iloc[i][8]),\n",
    "        fs = str(report_list.iloc[i][9]),\n",
    "        fw = str(report_list.iloc[i][10]),\n",
    "        ft = str(report_list.iloc[i][11])\n",
    "    )\n",
    "    file_name = f\"{report_list.iloc[i][1]}({report_list.iloc[i][0]})-({report_list.iloc[i][2]}).docx\"\n",
    "    path_name = f\"{folderName}/{report_list.iloc[i][2]}\"\n",
    "    document.write(file_name)\n",
    "    shutil.move(file_name, path_name)"
   ]
  },
  {
   "cell_type": "code",
   "execution_count": null,
   "id": "a1f601c2",
   "metadata": {},
   "outputs": [],
   "source": [
    "for i in range(len(report_list)):\n",
    "    document = MailMerge(template)\n",
    "    document.merge(\n",
    "        kName = report_list.iloc[i][0],\n",
    "        eName = report_list.iloc[i][1],\n",
    "        className = report_list.iloc[i][2],\n",
    "        ps = str(report_list.iloc[i][3]),\n",
    "        pw = str(report_list.iloc[i][4]),\n",
    "        pt = str(report_list.iloc[i][5]),\n",
    "        ms = str(report_list.iloc[i][6]),\n",
    "        mw = str(report_list.iloc[i][7]),\n",
    "        mt = str(report_list.iloc[i][8]),\n",
    "        fs = str(report_list.iloc[i][9]),\n",
    "        fw = str(report_list.iloc[i][10]),\n",
    "        ft = str(report_list.iloc[i][11])\n",
    "    )\n",
    "    file_name = f\"{report_list.iloc[i][1]}({report_list.iloc[i][0]})-({report_list.iloc[i][2]}).docx\"\n",
    "    path_name = f\"Report Cards/{report_list.iloc[i][2]}\"\n",
    "    document.write(file_name)\n",
    "    shutil.move(file_name, path_name)"
   ]
  }
 ],
 "metadata": {
  "kernelspec": {
   "display_name": "Python 3",
   "language": "python",
   "name": "python3"
  },
  "language_info": {
   "codemirror_mode": {
    "name": "ipython",
    "version": 3
   },
   "file_extension": ".py",
   "mimetype": "text/x-python",
   "name": "python",
   "nbconvert_exporter": "python",
   "pygments_lexer": "ipython3",
   "version": "3.8.8"
  }
 },
 "nbformat": 4,
 "nbformat_minor": 5
}
